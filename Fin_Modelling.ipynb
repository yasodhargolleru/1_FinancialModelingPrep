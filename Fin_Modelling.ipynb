{
  "cells": [
    {
      "cell_type": "code",
      "execution_count": 1,
      "metadata": {
        "colab": {
          "base_uri": "https://localhost:8080/"
        },
        "id": "qszDXMjbv3s9",
        "outputId": "d7e4c391-caf4-4afc-ed4b-3061e2440105"
      },
      "outputs": [
        {
          "output_type": "stream",
          "name": "stdout",
          "text": [
            "Collecting valinvest\n",
            "  Downloading valinvest-0.0.2-py3-none-any.whl (11 kB)\n",
            "Installing collected packages: valinvest\n",
            "Successfully installed valinvest-0.0.2\n"
          ]
        }
      ],
      "source": [
        "pip install valinvest"
      ]
    },
    {
      "cell_type": "code",
      "execution_count": 2,
      "metadata": {
        "id": "0B113ppvv3tA"
      },
      "outputs": [],
      "source": [
        "import pandas as pd"
      ]
    },
    {
      "cell_type": "code",
      "execution_count": 3,
      "metadata": {
        "id": "WgeUGyuwv3tB"
      },
      "outputs": [],
      "source": [
        "import valinvest"
      ]
    },
    {
      "cell_type": "code",
      "execution_count": 4,
      "metadata": {
        "id": "xopJWWrMv3tB"
      },
      "outputs": [],
      "source": [
        "aapl = valinvest.Fundamental('TSLA', 'API KEY')"
      ]
    },
    {
      "cell_type": "code",
      "execution_count": 5,
      "metadata": {
        "colab": {
          "base_uri": "https://localhost:8080/"
        },
        "id": "uxfic5N5v3tB",
        "outputId": "7dc1e8e9-1c6a-457f-e7d2-ba21297a0d18"
      },
      "outputs": [
        {
          "output_type": "stream",
          "name": "stderr",
          "text": [
            "/usr/local/lib/python3.10/dist-packages/valinvest/fundamentals.py:375: FutureWarning: The default value of numeric_only in DataFrameGroupBy.sum is deprecated. In a future version, numeric_only will default to False. Either specify numeric_only or select only columns which should be valid for the function.\n",
            "  [\"ticker\", \"year\"]).sum().index\n",
            "/usr/local/lib/python3.10/dist-packages/valinvest/fundamentals.py:436: FutureWarning: The default value of numeric_only in DataFrameGroupBy.sum is deprecated. In a future version, numeric_only will default to False. Either specify numeric_only or select only columns which should be valid for the function.\n",
            "  [\"ticker\", \"year\"]).sum().index\n",
            "/usr/local/lib/python3.10/dist-packages/valinvest/fundamentals.py:292: FutureWarning: The default value of numeric_only in DataFrameGroupBy.sum is deprecated. In a future version, numeric_only will default to False. Either specify numeric_only or select only columns which should be valid for the function.\n",
            "  [\"ticker\", \"year\"]).sum().index\n",
            "/usr/local/lib/python3.10/dist-packages/valinvest/fundamentals.py:337: FutureWarning: The default value of numeric_only in DataFrameGroupBy.sum is deprecated. In a future version, numeric_only will default to False. Either specify numeric_only or select only columns which should be valid for the function.\n",
            "  [\"ticker\", \"year\"]).sum().index\n"
          ]
        },
        {
          "output_type": "execute_result",
          "data": {
            "text/plain": [
              "2.9"
            ]
          },
          "metadata": {},
          "execution_count": 5
        }
      ],
      "source": [
        "aapl.fscore()"
      ]
    },
    {
      "cell_type": "code",
      "execution_count": 6,
      "metadata": {
        "colab": {
          "base_uri": "https://localhost:8080/"
        },
        "id": "BMVrTJafv3tC",
        "outputId": "d78ed53d-ea95-4734-9d5d-297633de4a3c"
      },
      "outputs": [
        {
          "output_type": "stream",
          "name": "stdout",
          "text": [
            "Collecting fmp_python\n",
            "  Downloading fmp_python-0.1.4-py3-none-any.whl (9.0 kB)\n",
            "Requirement already satisfied: pandas in /usr/local/lib/python3.10/dist-packages (from fmp_python) (1.5.3)\n",
            "Requirement already satisfied: requests in /usr/local/lib/python3.10/dist-packages (from fmp_python) (2.27.1)\n",
            "Requirement already satisfied: python-dateutil>=2.8.1 in /usr/local/lib/python3.10/dist-packages (from pandas->fmp_python) (2.8.2)\n",
            "Requirement already satisfied: pytz>=2020.1 in /usr/local/lib/python3.10/dist-packages (from pandas->fmp_python) (2022.7.1)\n",
            "Requirement already satisfied: numpy>=1.21.0 in /usr/local/lib/python3.10/dist-packages (from pandas->fmp_python) (1.22.4)\n",
            "Requirement already satisfied: urllib3<1.27,>=1.21.1 in /usr/local/lib/python3.10/dist-packages (from requests->fmp_python) (1.26.16)\n",
            "Requirement already satisfied: certifi>=2017.4.17 in /usr/local/lib/python3.10/dist-packages (from requests->fmp_python) (2023.5.7)\n",
            "Requirement already satisfied: charset-normalizer~=2.0.0 in /usr/local/lib/python3.10/dist-packages (from requests->fmp_python) (2.0.12)\n",
            "Requirement already satisfied: idna<4,>=2.5 in /usr/local/lib/python3.10/dist-packages (from requests->fmp_python) (3.4)\n",
            "Requirement already satisfied: six>=1.5 in /usr/local/lib/python3.10/dist-packages (from python-dateutil>=2.8.1->pandas->fmp_python) (1.16.0)\n",
            "Installing collected packages: fmp_python\n",
            "Successfully installed fmp_python-0.1.4\n"
          ]
        }
      ],
      "source": [
        "pip install fmp_python"
      ]
    },
    {
      "cell_type": "code",
      "execution_count": 7,
      "metadata": {
        "colab": {
          "base_uri": "https://localhost:8080/"
        },
        "id": "Ki0EBzWjv3tC",
        "outputId": "952a9797-4dbd-40d1-c9fa-ad6c148e1b96"
      },
      "outputs": [
        {
          "output_type": "execute_result",
          "data": {
            "text/plain": [
              "[{'symbol': 'AAPL',\n",
              "  'name': 'Apple Inc.',\n",
              "  'price': 193.7,\n",
              "  'changesPercentage': 0.2951,\n",
              "  'change': 0.57,\n",
              "  'dayLow': 192.81,\n",
              "  'dayHigh': 194.97,\n",
              "  'yearHigh': 198.23,\n",
              "  'yearLow': 124.17,\n",
              "  'marketCap': 3046649270579,\n",
              "  'priceAvg50': 182.7826,\n",
              "  'priceAvg200': 157.22505,\n",
              "  'exchange': 'NASDAQ',\n",
              "  'volume': 17174575,\n",
              "  'avgVolume': 57177132,\n",
              "  'open': 194.1,\n",
              "  'previousClose': 193.13,\n",
              "  'eps': 5.89,\n",
              "  'pe': 32.89,\n",
              "  'earningsAnnouncement': '2023-08-03T00:00:00.000+0000',\n",
              "  'sharesOutstanding': 15728700416,\n",
              "  'timestamp': 1689952248}]"
            ]
          },
          "metadata": {},
          "execution_count": 7
        }
      ],
      "source": [
        "from fmp_python.fmp import FMP\n",
        "\n",
        "fmp = FMP(api_key='API KEY')\n",
        "fmp.get_quote('AApL')"
      ]
    },
    {
      "cell_type": "code",
      "execution_count": 8,
      "metadata": {
        "colab": {
          "base_uri": "https://localhost:8080/"
        },
        "id": "VX7_GKtOv3tD",
        "outputId": "807875f5-3156-4ed5-b7de-ac2ca6ffd5a3"
      },
      "outputs": [
        {
          "output_type": "stream",
          "name": "stdout",
          "text": [
            "[{'date': '2022-09-24', 'symbol': 'AAPL', 'reportedCurrency': 'USD', 'cik': '0000320193', 'fillingDate': '2022-10-28', 'acceptedDate': '2022-10-27 18:01:14', 'calendarYear': '2022', 'period': 'FY', 'revenue': 394328000000, 'costOfRevenue': 223546000000, 'grossProfit': 170782000000, 'grossProfitRatio': 0.4330963056, 'researchAndDevelopmentExpenses': 26251000000, 'generalAndAdministrativeExpenses': 0, 'sellingAndMarketingExpenses': 0, 'sellingGeneralAndAdministrativeExpenses': 25094000000, 'otherExpenses': 0, 'operatingExpenses': 51345000000, 'costAndExpenses': 274891000000, 'interestIncome': 2825000000, 'interestExpense': 2931000000, 'depreciationAndAmortization': 11104000000, 'ebitda': 130541000000, 'ebitdaratio': 0.3310467428, 'operatingIncome': 119437000000, 'operatingIncomeRatio': 0.302887444, 'totalOtherIncomeExpensesNet': -334000000, 'incomeBeforeTax': 119103000000, 'incomeBeforeTaxRatio': 0.3020404333, 'incomeTaxExpense': 19300000000, 'netIncome': 99803000000, 'netIncomeRatio': 0.2530964071, 'eps': 6.15, 'epsdiluted': 6.11, 'weightedAverageShsOut': 16215963000, 'weightedAverageShsOutDil': 16325819000, 'link': 'https://www.sec.gov/Archives/edgar/data/320193/000032019322000108/0000320193-22-000108-index.htm', 'finalLink': 'https://www.sec.gov/Archives/edgar/data/320193/000032019322000108/aapl-20220924.htm'}, {'date': '2021-09-25', 'symbol': 'AAPL', 'reportedCurrency': 'USD', 'cik': '0000320193', 'fillingDate': '2021-10-29', 'acceptedDate': '2021-10-28 18:04:28', 'calendarYear': '2021', 'period': 'FY', 'revenue': 365817000000, 'costOfRevenue': 212981000000, 'grossProfit': 152836000000, 'grossProfitRatio': 0.4177935963, 'researchAndDevelopmentExpenses': 21914000000, 'generalAndAdministrativeExpenses': 0, 'sellingAndMarketingExpenses': 0, 'sellingGeneralAndAdministrativeExpenses': 21973000000, 'otherExpenses': 0, 'operatingExpenses': 43887000000, 'costAndExpenses': 256868000000, 'interestIncome': 2843000000, 'interestExpense': 2645000000, 'depreciationAndAmortization': 11284000000, 'ebitda': 120233000000, 'ebitdaratio': 0.3286697994, 'operatingIncome': 108949000000, 'operatingIncomeRatio': 0.2978237753, 'totalOtherIncomeExpensesNet': 258000000, 'incomeBeforeTax': 109207000000, 'incomeBeforeTaxRatio': 0.2985290459, 'incomeTaxExpense': 14527000000, 'netIncome': 94680000000, 'netIncomeRatio': 0.2588179336, 'eps': 5.67, 'epsdiluted': 5.61, 'weightedAverageShsOut': 16701272000, 'weightedAverageShsOutDil': 16864919000, 'link': 'https://www.sec.gov/Archives/edgar/data/320193/000032019321000105/0000320193-21-000105-index.htm', 'finalLink': 'https://www.sec.gov/Archives/edgar/data/320193/000032019321000105/aapl-20210925.htm'}, {'date': '2020-09-26', 'symbol': 'AAPL', 'reportedCurrency': 'USD', 'cik': '0000320193', 'fillingDate': '2020-10-30', 'acceptedDate': '2020-10-29 18:06:25', 'calendarYear': '2020', 'period': 'FY', 'revenue': 274515000000, 'costOfRevenue': 169559000000, 'grossProfit': 104956000000, 'grossProfitRatio': 0.3823324773, 'researchAndDevelopmentExpenses': 18752000000, 'generalAndAdministrativeExpenses': 0, 'sellingAndMarketingExpenses': 0, 'sellingGeneralAndAdministrativeExpenses': 19916000000, 'otherExpenses': 0, 'operatingExpenses': 38668000000, 'costAndExpenses': 208227000000, 'interestIncome': 3763000000, 'interestExpense': 2873000000, 'depreciationAndAmortization': 11056000000, 'ebitda': 77344000000, 'ebitdaratio': 0.2817478098, 'operatingIncome': 66288000000, 'operatingIncomeRatio': 0.2414731435, 'totalOtherIncomeExpensesNet': 803000000, 'incomeBeforeTax': 67091000000, 'incomeBeforeTaxRatio': 0.2443983025, 'incomeTaxExpense': 9680000000, 'netIncome': 57411000000, 'netIncomeRatio': 0.2091361128, 'eps': 3.31, 'epsdiluted': 3.28, 'weightedAverageShsOut': 17352119000, 'weightedAverageShsOutDil': 17528214000, 'link': 'https://www.sec.gov/Archives/edgar/data/320193/000032019320000096/0000320193-20-000096-index.htm', 'finalLink': 'https://www.sec.gov/Archives/edgar/data/320193/000032019320000096/aapl-20200926.htm'}, {'date': '2019-09-28', 'symbol': 'AAPL', 'reportedCurrency': 'USD', 'cik': '0000320193', 'fillingDate': '2019-10-31', 'acceptedDate': '2019-10-30 18:12:36', 'calendarYear': '2019', 'period': 'FY', 'revenue': 260174000000, 'costOfRevenue': 161782000000, 'grossProfit': 98392000000, 'grossProfitRatio': 0.3781776811, 'researchAndDevelopmentExpenses': 16217000000, 'generalAndAdministrativeExpenses': 0, 'sellingAndMarketingExpenses': 0, 'sellingGeneralAndAdministrativeExpenses': 18245000000, 'otherExpenses': 0, 'operatingExpenses': 34462000000, 'costAndExpenses': 196244000000, 'interestIncome': 4961000000, 'interestExpense': 3576000000, 'depreciationAndAmortization': 12547000000, 'ebitda': 76477000000, 'ebitdaratio': 0.2939455903, 'operatingIncome': 63930000000, 'operatingIncomeRatio': 0.2457201719, 'totalOtherIncomeExpensesNet': 1807000000, 'incomeBeforeTax': 65737000000, 'incomeBeforeTaxRatio': 0.2526655238, 'incomeTaxExpense': 10481000000, 'netIncome': 55256000000, 'netIncomeRatio': 0.2123809451, 'eps': 2.99, 'epsdiluted': 2.97, 'weightedAverageShsOut': 18471336000, 'weightedAverageShsOutDil': 18595652000, 'link': 'https://www.sec.gov/Archives/edgar/data/320193/000032019319000119/0000320193-19-000119-index.htm', 'finalLink': 'https://www.sec.gov/Archives/edgar/data/320193/000032019319000119/a10-k20199282019.htm'}, {'date': '2018-09-29', 'symbol': 'AAPL', 'reportedCurrency': 'USD', 'cik': '0000320193', 'fillingDate': '2018-11-05', 'acceptedDate': '2018-11-05 08:01:40', 'calendarYear': '2018', 'period': 'FY', 'revenue': 265595000000, 'costOfRevenue': 163756000000, 'grossProfit': 101839000000, 'grossProfitRatio': 0.3834371882, 'researchAndDevelopmentExpenses': 14236000000, 'generalAndAdministrativeExpenses': 0, 'sellingAndMarketingExpenses': 0, 'sellingGeneralAndAdministrativeExpenses': 16705000000, 'otherExpenses': 2005000000, 'operatingExpenses': 30941000000, 'costAndExpenses': 194697000000, 'interestIncome': 5686000000, 'interestExpense': 3240000000, 'depreciationAndAmortization': 10903000000, 'ebitda': 81801000000, 'ebitdaratio': 0.3079914908, 'operatingIncome': 70898000000, 'operatingIncomeRatio': 0.2669402662, 'totalOtherIncomeExpensesNet': 2005000000, 'incomeBeforeTax': 72903000000, 'incomeBeforeTaxRatio': 0.2744893541, 'incomeTaxExpense': 13372000000, 'netIncome': 59531000000, 'netIncomeRatio': 0.2241420207, 'eps': 3, 'epsdiluted': 2.98, 'weightedAverageShsOut': 19821508000, 'weightedAverageShsOutDil': 20000436000, 'link': 'https://www.sec.gov/Archives/edgar/data/320193/000032019318000145/0000320193-18-000145-index.htm', 'finalLink': 'https://www.sec.gov/Archives/edgar/data/320193/000032019318000145/a10-k20189292018.htm'}]\n"
          ]
        },
        {
          "output_type": "stream",
          "name": "stderr",
          "text": [
            "<ipython-input-8-08d0f9e9914f>:25: DeprecationWarning: cafile, capath and cadefault are deprecated, use a custom context instead.\n",
            "  response = urlopen(url, cafile=certifi.where())\n"
          ]
        }
      ],
      "source": [
        "\n",
        "#!/usr/bin/env python\n",
        "\n",
        "try:\n",
        "    # For Python 3.0 and later\n",
        "    from urllib.request import urlopen\n",
        "except ImportError:\n",
        "    # Fall back to Python 2's urllib2\n",
        "    from urllib2 import urlopen\n",
        "\n",
        "import certifi\n",
        "import json\n",
        "\n",
        "def get_jsonparsed_data(url):\n",
        "    \"\"\"\n",
        "    Receive the content of ``url``, parse it as JSON and return the object.\n",
        "\n",
        "    Parameters\n",
        "    ----------\n",
        "    url : str\n",
        "\n",
        "    Returns\n",
        "    -------\n",
        "    dict\n",
        "    \"\"\"\n",
        "    response = urlopen(url, cafile=certifi.where())\n",
        "    data = response.read().decode(\"utf-8\")\n",
        "    return json.loads(data)\n",
        "\n",
        "url = url = (\"https://financialmodelingprep.com/api/v3/income-statement/AAPL?apikey=API KEY\")\n",
        "print(get_jsonparsed_data(url))\n",
        "\n"
      ]
    },
    {
      "cell_type": "code",
      "execution_count": 9,
      "metadata": {
        "colab": {
          "base_uri": "https://localhost:8080/"
        },
        "id": "NEVu7rGlv3tE",
        "outputId": "cd194463-64e2-468d-c3ae-2d2bda8c7392"
      },
      "outputs": [
        {
          "output_type": "stream",
          "name": "stderr",
          "text": [
            "<ipython-input-8-08d0f9e9914f>:25: DeprecationWarning: cafile, capath and cadefault are deprecated, use a custom context instead.\n",
            "  response = urlopen(url, cafile=certifi.where())\n"
          ]
        },
        {
          "output_type": "stream",
          "name": "stdout",
          "text": [
            "         date symbol reportedCurrency         cik fillingDate  \\\n",
            "0  2022-09-24   AAPL              USD  0000320193  2022-10-28   \n",
            "1  2021-09-25   AAPL              USD  0000320193  2021-10-29   \n",
            "2  2020-09-26   AAPL              USD  0000320193  2020-10-30   \n",
            "3  2019-09-28   AAPL              USD  0000320193  2019-10-31   \n",
            "4  2018-09-29   AAPL              USD  0000320193  2018-11-05   \n",
            "\n",
            "          acceptedDate calendarYear period       revenue  costOfRevenue  ...  \\\n",
            "0  2022-10-27 18:01:14         2022     FY  394328000000   223546000000  ...   \n",
            "1  2021-10-28 18:04:28         2021     FY  365817000000   212981000000  ...   \n",
            "2  2020-10-29 18:06:25         2020     FY  274515000000   169559000000  ...   \n",
            "3  2019-10-30 18:12:36         2019     FY  260174000000   161782000000  ...   \n",
            "4  2018-11-05 08:01:40         2018     FY  265595000000   163756000000  ...   \n",
            "\n",
            "   incomeBeforeTaxRatio  incomeTaxExpense    netIncome  netIncomeRatio   eps  \\\n",
            "0              0.302040       19300000000  99803000000        0.253096  6.15   \n",
            "1              0.298529       14527000000  94680000000        0.258818  5.67   \n",
            "2              0.244398        9680000000  57411000000        0.209136  3.31   \n",
            "3              0.252666       10481000000  55256000000        0.212381  2.99   \n",
            "4              0.274489       13372000000  59531000000        0.224142  3.00   \n",
            "\n",
            "   epsdiluted  weightedAverageShsOut  weightedAverageShsOutDil  \\\n",
            "0        6.11            16215963000               16325819000   \n",
            "1        5.61            16701272000               16864919000   \n",
            "2        3.28            17352119000               17528214000   \n",
            "3        2.97            18471336000               18595652000   \n",
            "4        2.98            19821508000               20000436000   \n",
            "\n",
            "                                                link  \\\n",
            "0  https://www.sec.gov/Archives/edgar/data/320193...   \n",
            "1  https://www.sec.gov/Archives/edgar/data/320193...   \n",
            "2  https://www.sec.gov/Archives/edgar/data/320193...   \n",
            "3  https://www.sec.gov/Archives/edgar/data/320193...   \n",
            "4  https://www.sec.gov/Archives/edgar/data/320193...   \n",
            "\n",
            "                                           finalLink  \n",
            "0  https://www.sec.gov/Archives/edgar/data/320193...  \n",
            "1  https://www.sec.gov/Archives/edgar/data/320193...  \n",
            "2  https://www.sec.gov/Archives/edgar/data/320193...  \n",
            "3  https://www.sec.gov/Archives/edgar/data/320193...  \n",
            "4  https://www.sec.gov/Archives/edgar/data/320193...  \n",
            "\n",
            "[5 rows x 38 columns]\n"
          ]
        }
      ],
      "source": [
        "json_data = get_jsonparsed_data(url)\n",
        "df = pd.DataFrame(json_data)\n",
        "\n",
        "print(df)"
      ]
    },
    {
      "cell_type": "code",
      "execution_count": 10,
      "metadata": {
        "colab": {
          "base_uri": "https://localhost:8080/"
        },
        "id": "-Eonwu0Cv3tF",
        "outputId": "45413916-85b5-47b9-b949-074e9e837125"
      },
      "outputs": [
        {
          "output_type": "stream",
          "name": "stdout",
          "text": [
            "Index(['date', 'symbol', 'reportedCurrency', 'cik', 'fillingDate',\n",
            "       'acceptedDate', 'calendarYear', 'period', 'revenue', 'costOfRevenue',\n",
            "       'grossProfit', 'grossProfitRatio', 'researchAndDevelopmentExpenses',\n",
            "       'generalAndAdministrativeExpenses', 'sellingAndMarketingExpenses',\n",
            "       'sellingGeneralAndAdministrativeExpenses', 'otherExpenses',\n",
            "       'operatingExpenses', 'costAndExpenses', 'interestIncome',\n",
            "       'interestExpense', 'depreciationAndAmortization', 'ebitda',\n",
            "       'ebitdaratio', 'operatingIncome', 'operatingIncomeRatio',\n",
            "       'totalOtherIncomeExpensesNet', 'incomeBeforeTax',\n",
            "       'incomeBeforeTaxRatio', 'incomeTaxExpense', 'netIncome',\n",
            "       'netIncomeRatio', 'eps', 'epsdiluted', 'weightedAverageShsOut',\n",
            "       'weightedAverageShsOutDil', 'link', 'finalLink'],\n",
            "      dtype='object')\n"
          ]
        }
      ],
      "source": [
        "columns = df.columns\n",
        "\n",
        "print(columns)"
      ]
    },
    {
      "cell_type": "code",
      "execution_count": 11,
      "metadata": {
        "colab": {
          "base_uri": "https://localhost:8080/"
        },
        "id": "TKb5UgXxv3tG",
        "outputId": "420c3ef4-5030-4f2d-a7ee-09292eee9cd0"
      },
      "outputs": [
        {
          "output_type": "stream",
          "name": "stdout",
          "text": [
            "date\n",
            "symbol\n",
            "reportedCurrency\n",
            "cik\n",
            "fillingDate\n",
            "acceptedDate\n",
            "calendarYear\n",
            "period\n",
            "revenue\n",
            "costOfRevenue\n",
            "grossProfit\n",
            "grossProfitRatio\n",
            "researchAndDevelopmentExpenses\n",
            "generalAndAdministrativeExpenses\n",
            "sellingAndMarketingExpenses\n",
            "sellingGeneralAndAdministrativeExpenses\n",
            "otherExpenses\n",
            "operatingExpenses\n",
            "costAndExpenses\n",
            "interestIncome\n",
            "interestExpense\n",
            "depreciationAndAmortization\n",
            "ebitda\n",
            "ebitdaratio\n",
            "operatingIncome\n",
            "operatingIncomeRatio\n",
            "totalOtherIncomeExpensesNet\n",
            "incomeBeforeTax\n",
            "incomeBeforeTaxRatio\n",
            "incomeTaxExpense\n",
            "netIncome\n",
            "netIncomeRatio\n",
            "eps\n",
            "epsdiluted\n",
            "weightedAverageShsOut\n",
            "weightedAverageShsOutDil\n",
            "link\n",
            "finalLink\n"
          ]
        }
      ],
      "source": [
        "for column in df.columns:\n",
        "    print(column)\n"
      ]
    },
    {
      "cell_type": "code",
      "execution_count": 12,
      "metadata": {
        "colab": {
          "base_uri": "https://localhost:8080/"
        },
        "id": "5WADTdFpv3tG",
        "outputId": "f11eedfa-6592-4856-ff87-d6f0234d33a1"
      },
      "outputs": [
        {
          "output_type": "stream",
          "name": "stdout",
          "text": [
            "         date  grossProfitRatio  ebitdaratio  epsdiluted\n",
            "0  2022-09-24          0.433096     0.331047        6.11\n",
            "1  2021-09-25          0.417794     0.328670        5.61\n",
            "2  2020-09-26          0.382332     0.281748        3.28\n",
            "3  2019-09-28          0.378178     0.293946        2.97\n",
            "4  2018-09-29          0.383437     0.307991        2.98\n"
          ]
        }
      ],
      "source": [
        "columns_of_interest = ['date', 'grossProfitRatio','ebitdaratio','epsdiluted']\n",
        "selected_columns = df[columns_of_interest]\n",
        "print(selected_columns)\n"
      ]
    },
    {
      "cell_type": "code",
      "execution_count": 13,
      "metadata": {
        "id": "dnp0arM1v3tG"
      },
      "outputs": [],
      "source": [
        "import pandas as pd\n",
        "import matplotlib.pyplot as plt"
      ]
    },
    {
      "cell_type": "code",
      "execution_count": 14,
      "metadata": {
        "colab": {
          "base_uri": "https://localhost:8080/",
          "height": 1000
        },
        "id": "l9aUss-Bv3tH",
        "outputId": "822d9cdc-85cc-4d76-96b3-28586a41b3f0"
      },
      "outputs": [
        {
          "output_type": "execute_result",
          "data": {
            "text/plain": [
              "<Axes: xlabel='date'>"
            ]
          },
          "metadata": {},
          "execution_count": 14
        },
        {
          "output_type": "display_data",
          "data": {
            "text/plain": [
              "<Figure size 640x480 with 1 Axes>"
            ],
            "image/png": "[encoded data removed]"
          },
          "metadata": {}
        },
        {
          "output_type": "display_data",
          "data": {
            "text/plain": [
              "<Figure size 640x480 with 1 Axes>"
            ],
            "image/png": "[encoded data removed]"
          },
          "metadata": {}
        },
        {
          "output_type": "display_data",
          "data": {
            "text/plain": [
              "<Figure size 640x480 with 1 Axes>"
            ],
            "image/png": "[encoded data removed]"
          },
          "metadata": {}
        }
      ],
      "source": [
        "df1= df[::-1]\n",
        "\n",
        "df1.plot(x='date', y='grossProfitRatio', kind='line')\n",
        "df1.plot(x='date', y='ebitdaratio', kind='line')\n",
        "df1.plot(x='date', y='epsdiluted', kind='line')\n",
        "\n"
      ]
    },
    {
      "cell_type": "code",
      "execution_count": 15,
      "metadata": {
        "colab": {
          "base_uri": "https://localhost:8080/"
        },
        "id": "WJU_qkFDv3tH",
        "outputId": "de797ace-25f9-4f0a-cfd5-56b38d872d73"
      },
      "outputs": [
        {
          "output_type": "stream",
          "name": "stdout",
          "text": [
            "[{'symbol': 'AAPL', 'date': '2022-09-24', 'period': 'FY', 'currentRatio': 0.8793560286267226, 'quickRatio': 0.7094075930952969, 'cashRatio': 0.15356340351469652, 'daysOfSalesOutstanding': 56.400204905560855, 'daysOfInventoryOutstanding': 8.07569806661716, 'operatingCycle': 64.47590297217802, 'daysOfPayablesOutstanding': 104.6852773031054, 'cashConversionCycle': -40.209374330927375, 'grossProfitMargin': 0.43309630561360085, 'operatingProfitMargin': 0.30288744395528594, 'pretaxProfitMargin': 0.30204043334482966, 'netProfitMargin': 0.2530964070519973, 'effectiveTaxRate': 0.16204461684424407, 'returnOnAssets': 0.2829244092925685, 'returnOnEquity': 1.9695887275023682, 'returnOnCapitalEmployed': 0.6008713457059057, 'netIncomePerEBT': 0.8379553831557559, 'ebtPerEbit': 0.997203546639651, 'ebitPerRevenue': 0.30288744395528594, 'debtRatio': 0.3403750478377344, 'debtEquityRatio': 2.3695334701610355, 'longTermDebtToCapitalization': 0.6613535965140913, 'totalDebtToCapitalization': 0.7032230102904399, 'interestCoverage': 40.74957352439441, 'cashFlowToDebtRatio': 1.0173400294830472, 'companyEquityMultiplier': 6.961536943479634, 'receivablesTurnover': 6.471607693822622, 'payablesTurnover': 3.486641191608828, 'inventoryTurnover': 45.19733117670845, 'fixedAssetTurnover': 9.362680152907377, 'assetTurnover': 1.1178523337727317, 'operatingCashFlowPerShare': 7.532762624088375, 'freeCashFlowPerShare': 6.872425646259799, 'cashPerShare': 2.9787931805221803, 'payoutRatio': 0.14870294480125848, 'operatingCashFlowSalesRatio': 0.30977003915522106, 'freeCashFlowOperatingCashFlowRatio': 0.9123380078754983, 'cashFlowCoverageRatios': 1.0173400294830472, 'shortTermCoverageRatios': 5.786404547607769, 'capitalExpenditureCoverageRatio': -11.407452372058275, 'dividendPaidAndCapexCoverageRatio': 29.555044761674328, 'dividendPayoutRatio': 0.14870294480125848, 'priceBookValueRatio': 48.14034011071204, 'priceToBookRatio': 48.14034011071204, 'priceToSalesRatio': 6.186137718067193, 'priceEarningsRatio': 24.441823533260525, 'priceToFreeCashFlowsRatio': 21.888923611981014, 'priceToOperatingCashFlowsRatio': 19.970096962693717, 'priceCashFlowRatio': 19.970096962693717, 'priceEarningsToGrowthRatio': 2.8871904048663968, 'priceSalesRatio': 6.186137718067193, 'dividendYield': 0.006083954603424043, 'enterpriseValueMultiple': 19.42524045388039, 'priceFairValue': 48.14034011071204}, {'symbol': 'AAPL', 'date': '2021-09-25', 'period': 'FY', 'currentRatio': 1.0745531195957954, 'quickRatio': 0.9096596297447422, 'cashRatio': 0.2784485300563432, 'daysOfSalesOutstanding': 51.390968708397914, 'daysOfInventoryOutstanding': 11.27659274770989, 'operatingCycle': 62.667561456107805, 'daysOfPayablesOutstanding': 93.85107122231561, 'cashConversionCycle': -31.183509766207806, 'grossProfitMargin': 0.4177935962516778, 'operatingProfitMargin': 0.29782377527561593, 'pretaxProfitMargin': 0.2985290459437369, 'netProfitMargin': 0.2588179335569424, 'effectiveTaxRate': 0.13302260844085087, 'returnOnAssets': 0.26974205275183616, 'returnOnEquity': 1.5007132667617689, 'returnOnCapitalEmployed': 0.48309913489209433, 'netIncomePerEBT': 0.8669773915591491, 'ebtPerEbit': 1.0023680804780217, 'ebitPerRevenue': 0.29782377527561593, 'debtRatio': 0.35532276169366556, 'debtEquityRatio': 1.9768426058012363, 'longTermDebtToCapitalization': 0.6336151826987851, 'totalDebtToCapitalization': 0.6640736066961648, 'interestCoverage': 41.19054820415879, 'cashFlowToDebtRatio': 0.8341792349201004, 'companyEquityMultiplier': 5.563512442542399, 'receivablesTurnover': 7.102415252591931, 'payablesTurnover': 3.889140478060004, 'inventoryTurnover': 32.367933130699086, 'fixedAssetTurnover': 9.275278904665315, 'assetTurnover': 1.042207736708053, 'operatingCashFlowPerShare': 6.229345884552985, 'freeCashFlowPerShare': 5.56562398361035, 'cashPerShare': 3.750552652516527, 'payoutRatio': 0.15279890156316012, 'operatingCashFlowSalesRatio': 0.284399030116151, 'freeCashFlowOperatingCashFlowRatio': 0.8934523923950864, 'cashFlowCoverageRatios': 0.8341792349201004, 'shortTermCoverageRatios': 6.663549606097483, 'capitalExpenditureCoverageRatio': -9.385475868290483, 'dividendPaidAndCapexCoverageRatio': 30.76227084565346, 'dividendPayoutRatio': 0.15279890156316012, 'priceBookValueRatio': 38.89286546584245, 'priceToBookRatio': 38.89286546584245, 'priceToSalesRatio': 6.707591178758778, 'priceEarningsRatio': 25.916253509083226, 'priceToFreeCashFlowsRatio': 26.39775889148279, 'priceToOperatingCashFlowsRatio': 23.585140835463964, 'priceCashFlowRatio': 23.585140835463964, 'priceEarningsToGrowthRatio': 0.36348643692824356, 'priceSalesRatio': 6.707591178758778, 'dividendYield': 0.0058958715429144335, 'enterpriseValueMultiple': 21.155006381276355, 'priceFairValue': 38.89286546584245}, {'symbol': 'AAPL', 'date': '2020-09-26', 'period': 'FY', 'currentRatio': 1.3636044481554577, 'quickRatio': 1.2181949294064065, 'cashRatio': 0.36071049035979963, 'daysOfSalesOutstanding': 49.78753437881355, 'daysOfInventoryOutstanding': 8.741883356235881, 'operatingCycle': 58.52941773504943, 'daysOfPayablesOutstanding': 91.04818971567418, 'cashConversionCycle': -32.518771980624756, 'grossProfitMargin': 0.38233247727810865, 'operatingProfitMargin': 0.24147314354406862, 'pretaxProfitMargin': 0.24439830246070343, 'netProfitMargin': 0.20913611278072236, 'effectiveTaxRate': 0.14428164731484103, 'returnOnAssets': 0.1772557180259843, 'returnOnEquity': 0.8786635853012749, 'returnOnCapitalEmployed': 0.3033831282952548, 'netIncomePerEBT': 0.855718352685159, 'ebtPerEbit': 1.0121138064204682, 'ebitPerRevenue': 0.24147314354406862, 'debtRatio': 0.34714469199229364, 'debtEquityRatio': 1.720809929750991, 'longTermDebtToCapitalization': 0.6016060388034584, 'totalDebtToCapitalization': 0.6324623822247223, 'interestCoverage': 23.07274625826662, 'cashFlowToDebtRatio': 0.7175104059198122, 'companyEquityMultiplier': 4.957039440456695, 'receivablesTurnover': 7.331152356789959, 'payablesTurnover': 4.008866086627577, 'inventoryTurnover': 41.75301649839941, 'fixedAssetTurnover': 7.466545177609748, 'assetTurnover': 0.8475615027416885, 'operatingCashFlowPerShare': 4.649230448454163, 'freeCashFlowPerShare': 4.2280138811865, 'cashPerShare': 5.241031369137106, 'payoutRatio': 0.24526658654264863, 'operatingCashFlowSalesRatio': 0.2938782944465694, 'freeCashFlowOperatingCashFlowRatio': 0.909400798274537, 'cashFlowCoverageRatios': 0.7175104059198122, 'shortTermCoverageRatios': 5.8591037838623, 'capitalExpenditureCoverageRatio': -11.037624846080176, 'dividendPaidAndCapexCoverageRatio': 11.912876550502068, 'dividendPayoutRatio': 0.2452665865426486, 'priceBookValueRatio': 29.818269660080503, 'priceToBookRatio': 29.818269660080503, 'priceToSalesRatio': 7.0972293729668685, 'priceEarningsRatio': 33.93593425162425, 'priceToFreeCashFlowsRatio': 26.556204202548898, 'priceToOperatingCashFlowsRatio': 24.150233300939583, 'priceCashFlowRatio': 24.150233300939583, 'priceEarningsToGrowthRatio': 3.1708888566361426, 'priceSalesRatio': 7.0972293729668685, 'dividendYield': 0.007227341517226967, 'enterpriseValueMultiple': 26.152202127120397, 'priceFairValue': 29.818269660080503}, {'symbol': 'AAPL', 'date': '2019-09-28', 'period': 'FY', 'currentRatio': 1.540125617208044, 'quickRatio': 1.3844473032028604, 'cashRatio': 0.46202160464632325, 'daysOfSalesOutstanding': 64.25876528784583, 'daysOfInventoryOutstanding': 9.263638723714628, 'operatingCycle': 73.52240401156047, 'daysOfPayablesOutstanding': 104.31407696777144, 'cashConversionCycle': -30.791672956210974, 'grossProfitMargin': 0.3781776810903472, 'operatingProfitMargin': 0.24572017188496928, 'pretaxProfitMargin': 0.2526655238417367, 'netProfitMargin': 0.21238094505984456, 'effectiveTaxRate': 0.1594383680423506, 'returnOnAssets': 0.16323009842961633, 'returnOnEquity': 0.6106445053487756, 'returnOnCapitalEmployed': 0.2746157613037913, 'netIncomePerEBT': 0.8405616319576494, 'ebtPerEbit': 1.0282652901611138, 'ebitPerRevenue': 0.24572017188496928, 'debtRatio': 0.3191784140188352, 'debtEquityRatio': 1.1940478295464592, 'longTermDebtToCapitalization': 0.5036177624180587, 'totalDebtToCapitalization': 0.5442214219155312, 'interestCoverage': 17.87751677852349, 'cashFlowToDebtRatio': 0.642229770377706, 'companyEquityMultiplier': 3.7410043320661304, 'receivablesTurnover': 5.68015893808401, 'payablesTurnover': 3.4990483605848257, 'inventoryTurnover': 39.40136385776912, 'fixedAssetTurnover': 6.960618545668575, 'assetTurnover': 0.7685722388306608, 'operatingCashFlowPerShare': 3.7566854936751732, 'freeCashFlowPerShare': 3.1885078588792926, 'cashPerShare': 5.443948396585932, 'payoutRatio': 0.25551976255972203, 'operatingCashFlowSalesRatio': 0.2667099710193947, 'freeCashFlowOperatingCashFlowRatio': 0.848755602311539, 'cashFlowCoverageRatios': 0.642229770377706, 'shortTermCoverageRatios': 4.272844827586207, 'capitalExpenditureCoverageRatio': -6.611815150071463, 'dividendPaidAndCapexCoverageRatio': 19.14762693156733, 'dividendPayoutRatio': 0.25551976255972203, 'priceBookValueRatio': 11.16694407965697, 'priceToBookRatio': 11.16694407965697, 'priceToSalesRatio': 3.8838409521320347, 'priceEarningsRatio': 18.287144126972635, 'priceToFreeCashFlowsRatio': 17.15692807457213, 'priceToOperatingCashFlowsRatio': 14.562038821749217, 'priceCashFlowRatio': 14.562038821749217, 'priceEarningsToGrowthRatio': -54.86143238091907, 'priceSalesRatio': 3.8838409521320347, 'dividendYield': 0.013972644431824813, 'enterpriseValueMultiple': 13.986916796945486, 'priceFairValue': 11.16694407965697}, {'symbol': 'AAPL', 'date': '2018-09-29', 'period': 'FY', 'currentRatio': 1.1238426916297297, 'quickRatio': 0.9865658104153475, 'cashRatio': 0.22173258261598755, 'daysOfSalesOutstanding': 67.33249872926825, 'daysOfInventoryOutstanding': 8.817631109699796, 'operatingCycle': 76.15012983896804, 'daysOfPayablesOutstanding': 124.57021422115831, 'cashConversionCycle': -48.42008438219027, 'grossProfitMargin': 0.38343718820007905, 'operatingProfitMargin': 0.26694026619477024, 'pretaxProfitMargin': 0.27448935409175623, 'netProfitMargin': 0.22414202074587247, 'effectiveTaxRate': 0.18342180705869443, 'returnOnAssets': 0.16277530931710985, 'returnOnEquity': 0.5556011834209077, 'returnOnCapitalEmployed': 0.2848922482208801, 'netIncomePerEBT': 0.8165781929413056, 'ebtPerEbit': 1.0282800643177523, 'ebitPerRevenue': 0.26694026619477024, 'debtRatio': 0.31303028231594776, 'debtEquityRatio': 1.0684666859548098, 'longTermDebtToCapitalization': 0.46661721806831874, 'totalDebtToCapitalization': 0.5165501060325768, 'interestCoverage': 21.882098765432097, 'cashFlowToDebtRatio': 0.6763798991990078, 'companyEquityMultiplier': 3.4133013523477094, 'receivablesTurnover': 5.42085927135422, 'payablesTurnover': 2.9300744345834526, 'inventoryTurnover': 41.3943377148635, 'fixedAssetTurnover': 6.430248886306411, 'assetTurnover': 0.7262150522933899, 'operatingCashFlowPerShare': 3.9065645257666572, 'freeCashFlowPerShare': 3.2349203703371106, 'cashPerShare': 3.344901911600268, 'payoutRatio': 0.23033377567989788, 'operatingCashFlowSalesRatio': 0.29154916319960844, 'freeCashFlowOperatingCashFlowRatio': 0.8280729395356046, 'cashFlowCoverageRatios': 0.6763798991990078, 'shortTermCoverageRatios': 3.732118758434548, 'capitalExpenditureCoverageRatio': -5.816420040561857, 'dividendPaidAndCapexCoverageRatio': 194.0701754385965, 'dividendPayoutRatio': 0.23033377567989785, 'priceBookValueRatio': 10.440113152771426, 'priceToBookRatio': 10.440113152771426, 'priceToSalesRatio': 4.21177659210452, 'priceEarningsRatio': 18.790660395088274, 'priceToFreeCashFlowsRatio': 17.445560798802266, 'priceToOperatingCashFlowsRatio': 14.4461968125113, 'priceCashFlowRatio': 14.4461968125113, 'priceEarningsToGrowthRatio': 0.641093119361835, 'priceSalesRatio': 4.21177659210452, 'dividendYield': 0.012257886143272816, 'enterpriseValueMultiple': 14.757726726812631, 'priceFairValue': 10.440113152771426}]\n"
          ]
        },
        {
          "output_type": "stream",
          "name": "stderr",
          "text": [
            "<ipython-input-15-3f3860be027e>:25: DeprecationWarning: cafile, capath and cadefault are deprecated, use a custom context instead.\n",
            "  response = urlopen(url, cafile=certifi.where())\n"
          ]
        }
      ],
      "source": [
        "#!/usr/bin/env python\n",
        "\n",
        "try:\n",
        "    # For Python 3.0 and later\n",
        "    from urllib.request import urlopen\n",
        "except ImportError:\n",
        "    # Fall back to Python 2's urllib2\n",
        "    from urllib2 import urlopen\n",
        "\n",
        "import certifi\n",
        "import json\n",
        "\n",
        "def ratios(url):\n",
        "    \"\"\"\n",
        "    Receive the content of ``url``, parse it as JSON and return the object.\n",
        "\n",
        "    Parameters\n",
        "    ----------\n",
        "    url : str\n",
        "\n",
        "    Returns\n",
        "    -------\n",
        "    dict\n",
        "    \"\"\"\n",
        "    response = urlopen(url, cafile=certifi.where())\n",
        "    data = response.read().decode(\"utf-8\")\n",
        "    return json.loads(data)\n",
        "\n",
        "url = (\"https://financialmodelingprep.com/api/v3/ratios/AAPL?apikey=436e7898123c572c189abb6c22307a37\")\n",
        "print(ratios(url))"
      ]
    },
    {
      "cell_type": "code",
      "execution_count": 16,
      "metadata": {
        "colab": {
          "base_uri": "https://localhost:8080/"
        },
        "id": "nZ0PiAXgv3tI",
        "outputId": "c74c7813-2c96-4034-deb3-daa973318f27"
      },
      "outputs": [
        {
          "output_type": "stream",
          "name": "stdout",
          "text": [
            "  symbol        date period  currentRatio  quickRatio  cashRatio  \\\n",
            "0   AAPL  2022-09-24     FY      0.879356    0.709408   0.153563   \n",
            "1   AAPL  2021-09-25     FY      1.074553    0.909660   0.278449   \n",
            "2   AAPL  2020-09-26     FY      1.363604    1.218195   0.360710   \n",
            "3   AAPL  2019-09-28     FY      1.540126    1.384447   0.462022   \n",
            "4   AAPL  2018-09-29     FY      1.123843    0.986566   0.221733   \n",
            "\n",
            "   daysOfSalesOutstanding  daysOfInventoryOutstanding  operatingCycle  \\\n",
            "0               56.400205                    8.075698       64.475903   \n",
            "1               51.390969                   11.276593       62.667561   \n",
            "2               49.787534                    8.741883       58.529418   \n",
            "3               64.258765                    9.263639       73.522404   \n",
            "4               67.332499                    8.817631       76.150130   \n",
            "\n",
            "   daysOfPayablesOutstanding  ...  priceToSalesRatio  priceEarningsRatio  \\\n",
            "0                 104.685277  ...           6.186138           24.441824   \n",
            "1                  93.851071  ...           6.707591           25.916254   \n",
            "2                  91.048190  ...           7.097229           33.935934   \n",
            "3                 104.314077  ...           3.883841           18.287144   \n",
            "4                 124.570214  ...           4.211777           18.790660   \n",
            "\n",
            "   priceToFreeCashFlowsRatio  priceToOperatingCashFlowsRatio  \\\n",
            "0                  21.888924                       19.970097   \n",
            "1                  26.397759                       23.585141   \n",
            "2                  26.556204                       24.150233   \n",
            "3                  17.156928                       14.562039   \n",
            "4                  17.445561                       14.446197   \n",
            "\n",
            "   priceCashFlowRatio  priceEarningsToGrowthRatio  priceSalesRatio  \\\n",
            "0           19.970097                    2.887190         6.186138   \n",
            "1           23.585141                    0.363486         6.707591   \n",
            "2           24.150233                    3.170889         7.097229   \n",
            "3           14.562039                  -54.861432         3.883841   \n",
            "4           14.446197                    0.641093         4.211777   \n",
            "\n",
            "   dividendYield  enterpriseValueMultiple  priceFairValue  \n",
            "0       0.006084                19.425240       48.140340  \n",
            "1       0.005896                21.155006       38.892865  \n",
            "2       0.007227                26.152202       29.818270  \n",
            "3       0.013973                13.986917       11.166944  \n",
            "4       0.012258                14.757727       10.440113  \n",
            "\n",
            "[5 rows x 57 columns]\n"
          ]
        },
        {
          "output_type": "stream",
          "name": "stderr",
          "text": [
            "<ipython-input-15-3f3860be027e>:25: DeprecationWarning: cafile, capath and cadefault are deprecated, use a custom context instead.\n",
            "  response = urlopen(url, cafile=certifi.where())\n"
          ]
        }
      ],
      "source": [
        "ratios_data = ratios(url)\n",
        "ratios_data_df = pd.DataFrame(ratios_data)\n",
        "\n",
        "print(ratios_data_df)"
      ]
    },
    {
      "cell_type": "code",
      "execution_count": 17,
      "metadata": {
        "colab": {
          "base_uri": "https://localhost:8080/"
        },
        "id": "ruQskzX6v3tI",
        "outputId": "67f7d228-1bdc-4d5f-d4ed-0b63730896d1"
      },
      "outputs": [
        {
          "output_type": "stream",
          "name": "stdout",
          "text": [
            "symbol\n",
            "date\n",
            "period\n",
            "currentRatio\n",
            "quickRatio\n",
            "cashRatio\n",
            "daysOfSalesOutstanding\n",
            "daysOfInventoryOutstanding\n",
            "operatingCycle\n",
            "daysOfPayablesOutstanding\n",
            "cashConversionCycle\n",
            "grossProfitMargin\n",
            "operatingProfitMargin\n",
            "pretaxProfitMargin\n",
            "netProfitMargin\n",
            "effectiveTaxRate\n",
            "returnOnAssets\n",
            "returnOnEquity\n",
            "returnOnCapitalEmployed\n",
            "netIncomePerEBT\n",
            "ebtPerEbit\n",
            "ebitPerRevenue\n",
            "debtRatio\n",
            "debtEquityRatio\n",
            "longTermDebtToCapitalization\n",
            "totalDebtToCapitalization\n",
            "interestCoverage\n",
            "cashFlowToDebtRatio\n",
            "companyEquityMultiplier\n",
            "receivablesTurnover\n",
            "payablesTurnover\n",
            "inventoryTurnover\n",
            "fixedAssetTurnover\n",
            "assetTurnover\n",
            "operatingCashFlowPerShare\n",
            "freeCashFlowPerShare\n",
            "cashPerShare\n",
            "payoutRatio\n",
            "operatingCashFlowSalesRatio\n",
            "freeCashFlowOperatingCashFlowRatio\n",
            "cashFlowCoverageRatios\n",
            "shortTermCoverageRatios\n",
            "capitalExpenditureCoverageRatio\n",
            "dividendPaidAndCapexCoverageRatio\n",
            "dividendPayoutRatio\n",
            "priceBookValueRatio\n",
            "priceToBookRatio\n",
            "priceToSalesRatio\n",
            "priceEarningsRatio\n",
            "priceToFreeCashFlowsRatio\n",
            "priceToOperatingCashFlowsRatio\n",
            "priceCashFlowRatio\n",
            "priceEarningsToGrowthRatio\n",
            "priceSalesRatio\n",
            "dividendYield\n",
            "enterpriseValueMultiple\n",
            "priceFairValue\n"
          ]
        }
      ],
      "source": [
        "for column in ratios_data_df.columns:\n",
        "    print(column)"
      ]
    },
    {
      "cell_type": "code",
      "source": [
        "columns_of_interest1 = ['date','priceEarningsToGrowthRatio','ebitPerRevenue']\n",
        "selected_columns1 = df[columns_of_interest][::-1]\n",
        "print(selected_columns1)"
      ],
      "metadata": {
        "colab": {
          "base_uri": "https://localhost:8080/"
        },
        "id": "HUjDTy2IwRxI",
        "outputId": "bb478a54-8f82-46e0-dd28-a6ce219a7b5e"
      },
      "execution_count": 18,
      "outputs": [
        {
          "output_type": "stream",
          "name": "stdout",
          "text": [
            "         date  grossProfitRatio  ebitdaratio  epsdiluted\n",
            "4  2018-09-29          0.383437     0.307991        2.98\n",
            "3  2019-09-28          0.378178     0.293946        2.97\n",
            "2  2020-09-26          0.382332     0.281748        3.28\n",
            "1  2021-09-25          0.417794     0.328670        5.61\n",
            "0  2022-09-24          0.433096     0.331047        6.11\n"
          ]
        }
      ]
    }
  ],
  "metadata": {
    "kernelspec": {
      "display_name": "Python 3",
      "language": "python",
      "name": "python3"
    },
    "language_info": {
      "codemirror_mode": {
        "name": "ipython",
        "version": 3
      },
      "file_extension": ".py",
      "mimetype": "text/x-python",
      "name": "python",
      "nbconvert_exporter": "python",
      "pygments_lexer": "ipython3",
      "version": "3.9.7"
    },
    "orig_nbformat": 4,
    "colab": {
      "provenance": []
    }
  },
  "nbformat": 4,
  "nbformat_minor": 0
}